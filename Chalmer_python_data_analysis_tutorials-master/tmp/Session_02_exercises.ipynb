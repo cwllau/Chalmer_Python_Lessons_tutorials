{
 "cells": [
  {
   "cell_type": "markdown",
   "metadata": {},
   "source": [
    "<h1>Welcome to the Dark Art of Coding:</h1>\n",
    "<h2>Introduction to Python</h2>\n",
    "Session 02\n",
    "\n",
    "In-class exercises\n",
    "\n",
    "<img src='../images/logos.3.600.wide.png' height='250' width='300' style=\"float:right\">"
   ]
  },
  {
   "cell_type": "markdown",
   "metadata": {},
   "source": [
    "# Objectives\n",
    "---\n",
    "* Practice using Boolean values\n",
    "  * `True`\n",
    "  * `False`\n",
    "  \n",
    "* Practice using comparison and Boolean operators\n",
    "  * `==`, `!=`, `<`, `<=`, etc\n",
    "  * `and`, `or`, `not`\n",
    "\n",
    "* Practice using flow controls\n",
    "  * `if, elif, else`\n",
    "  * `for`\n",
    "\n",
    "* Practice importing modules\n",
    "  * `time`\n"
   ]
  },
  {
   "cell_type": "markdown",
   "metadata": {},
   "source": [
    "# Boolean values\n",
    "---"
   ]
  },
  {
   "cell_type": "markdown",
   "metadata": {},
   "source": [
    "## Complete the following exercises:\n",
    "\n",
    "On the **IPython interpreter** evaluate each of the following objects for truthiness. \n",
    "\n",
    "||Value|\n",
    "|:--:|:--:|\n",
    "|1.| None | \n",
    "|2.| 0.1 |  \n",
    "|3.| '' | \n",
    "|4.| 0.0 |  \n",
    "|5.| 'Anything' | \n",
    " "
   ]
  },
  {
   "cell_type": "markdown",
   "metadata": {},
   "source": [
    "# Comparison and Boolean operators\n",
    "---"
   ]
  },
  {
   "cell_type": "markdown",
   "metadata": {},
   "source": [
    "## Complete the following exercises:\n",
    "\n",
    "On the **IPython interpreter** do each of the following:\n",
    "\n",
    "Task | Sample Object(s)\n",
    "---|---\n",
    "Compare two items using `and` | '', 101\n",
    "Compare two items using `or` | '', 13\n",
    "Use the `not` operator to make an object False | True \n",
    "Compare two numbers using comparison operators | `<=, !=, >, ==`\n",
    "Create a more complex/nested comparison using parenthesis and Boolean operators| `('arthur' _ 7) _ ('clark' _ 'bruce')`"
   ]
  },
  {
   "cell_type": "markdown",
   "metadata": {},
   "source": [
    "# Flow control\n",
    "---"
   ]
  },
  {
   "cell_type": "markdown",
   "metadata": {},
   "source": [
    "# If Statements\n",
    "\n",
    "## Complete the following exercises:\n",
    "\n",
    "In your **text editor** create a simple script called session02_flow.py to do the following:\n",
    "\n",
    "Execute your script in the **IPython interpreter** using the command `run session02_flow.py`.\n",
    "\n",
    "I suggest that as you add each feature to your script that you run it right away to test it incrementally. \n",
    "\n",
    "1. Create a variable with a computer name as a string AND save it with the label: `hostname`.\n",
    "1. Create a variable with number of computers as an integer AND save it with the label: `num_hosts`.\n",
    "\n",
    "1. Use `input()` to prompt for a computer name AND save it with the label: `myhost`.\n",
    "1. Create an `if` statement to test whether `hostname` is equivalent to `myhost`. \n",
    "1. IF True, `print()` \"Hostnames are equal\"\n",
    "\n",
    "1. Use `input()` to prompt for a number AND save it with the label: `count`. NOTE: make sure you convert this value to an integer.\n",
    "1. Create a separate (i.e. not nested) `if` statement to test whether `count` is greater than `num_hosts`.\n",
    "   1. IF True, `print()` \"count exceeds number of hosts\"\n",
    "   1. Use `elif` to test whether `count` is less than `num_hosts`, IF True, `print()` \"count is less than number of hosts\"\n",
    "   1. Use `else` to `print()` \"count equals number of hosts\"\n"
   ]
  },
  {
   "cell_type": "markdown",
   "metadata": {},
   "source": [
    "# For loops\n",
    "\n",
    "## Complete the following exercises:\n",
    "\n",
    "In your **text editor** create a simple script called session02_morefor.py to do the following:\n",
    "\n",
    "Execute your script in the **IPython interpreter** using the command `run session02_morefor.py`.\n",
    "\n",
    "I suggest that as you add each feature to your script that you run it right away to test it incrementally. \n",
    "\n",
    "1. Create a variable set to 100 as an integer AND save it with the label: `num_hosts`.\n",
    "1. Create a for loop using `range()` and the variable `num_hosts` as the upper bound.\n",
    "1. Within the for loop code block, do the following:\n",
    "   1. Multiply each number output by `range()` by 10 AND save it with the label: `tenfold`.\n",
    "   1. `print()` the variable `tenfold`\n",
    "   1. Create a nested `if` statement to test whether `tenfold` is equal to 80.\n",
    "   1. IF True, `print()` the string \"tenfold equaled 80\"\n",
    "\n"
   ]
  },
  {
   "cell_type": "markdown",
   "metadata": {},
   "source": [
    "# Importing modules"
   ]
  },
  {
   "cell_type": "markdown",
   "metadata": {},
   "source": [
    "## Complete the following exercises:\n",
    "\n",
    "On the **IPython interpreter** do each of the following:\n",
    "\n",
    "Task | Objective(s)\n",
    "---|---\n",
    "1. | import time\n",
    "2. | Read the help file for time.localtime()\n",
    "3. | Call the time.localtime() function to see the year, month, day represented by 10000 seconds from epoch \n",
    "4. | Call the time.locattime() function to see the current time\n",
    "\n",
    "** Note ** \n",
    "\n",
    "Unix time (also known as POSIX time or epoch time) is a system for describing instants in time, defined as the number of seconds that have elapsed since 00:00:00 Coordinated Universal Time (UTC), Thursday, 1 January 1970, not counting leap seconds"
   ]
  }
 ],
 "metadata": {
  "anaconda-cloud": {},
  "kernelspec": {
   "display_name": "Python [conda env:misc]",
   "language": "python",
   "name": "conda-env-misc-py"
  },
  "language_info": {
   "codemirror_mode": {
    "name": "ipython",
    "version": 3
   },
   "file_extension": ".py",
   "mimetype": "text/x-python",
   "name": "python",
   "nbconvert_exporter": "python",
   "pygments_lexer": "ipython3",
   "version": "3.5.3"
  }
 },
 "nbformat": 4,
 "nbformat_minor": 1
}
