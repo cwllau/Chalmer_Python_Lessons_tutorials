{
 "cells": [
  {
   "cell_type": "markdown",
   "metadata": {
    "slideshow": {
     "slide_type": "slide"
    }
   },
   "source": [
    "<h1>Welcome to the Dark Art of Coding:</h1>\n",
    "<h2>Introduction to Python</h2>\n",
    "Session 02\n",
    "\n",
    "Booleans, flow control, imports\n",
    "\n",
    "<img src='../images/logos.3.600.wide.png' height='250' width='300' style=\"float:right\">"
   ]
  },
  {
   "cell_type": "markdown",
   "metadata": {
    "slideshow": {
     "slide_type": "slide"
    }
   },
   "source": [
    "<h1>Agenda</h1>\n",
    "\n",
    "<strong>Review and Questions?</strong>\n",
    "\n",
    "<strong>Objectives:</strong>\n",
    "<ul>\n",
    "    <li><strong>Understand and use Boolean values</strong></li>\n",
    "    <li><strong>Understand and use comparison & Boolean operators</strong></li>\n",
    "    <li><strong>Understand and use flow controls</strong></li>\n",
    "    <li><strong>Understand importing and use imported modules</strong></li>\n",
    "</ul>\n",
    "\n",
    "<strong>In-class Practice</strong>"
   ]
  },
  {
   "cell_type": "markdown",
   "metadata": {
    "slideshow": {
     "slide_type": "subslide"
    }
   },
   "source": [
    "<h1>Review and Questions?</h1>\n",
    "<ul>\n",
    "<li>What is the difference between: int, float, and str?</li>\n",
    "<li>How do you concatenate two strings?</li>\n",
    "<li>What syntax is used to assign a label to a variable?</li>\n",
    "<li>Explain what each of these functions do: \n",
    "<ul>\n",
    "<li><code>print()</code></li>\n",
    "<li><code>input()</code></li>\n",
    "<li><code>len()</code></li>\n",
    "<li><code>str()</code></li>\n",
    "<li><code>int()</code></li>\n",
    "<li><code>float()</code></li>\n",
    "</ul>\n",
    "<li>Questions?</li>\n",
    "</ul>"
   ]
  },
  {
   "cell_type": "markdown",
   "metadata": {
    "slideshow": {
     "slide_type": "slide"
    }
   },
   "source": [
    "# Boolean Values\n",
    "\n",
    "## True\n",
    "## False"
   ]
  },
  {
   "cell_type": "code",
   "execution_count": 1,
   "metadata": {},
   "outputs": [
    {
     "data": {
      "text/plain": [
       "False"
      ]
     },
     "execution_count": 1,
     "metadata": {},
     "output_type": "execute_result"
    }
   ],
   "source": [
    "False"
   ]
  },
  {
   "cell_type": "code",
   "execution_count": 2,
   "metadata": {
    "slideshow": {
     "slide_type": "fragment"
    }
   },
   "outputs": [
    {
     "ename": "NameError",
     "evalue": "name 'false' is not defined",
     "output_type": "error",
     "traceback": [
      "\u001b[0;31m---------------------------------------------------------------------------\u001b[0m",
      "\u001b[0;31mNameError\u001b[0m                                 Traceback (most recent call last)",
      "\u001b[0;32m<ipython-input-2-41601cad2e2e>\u001b[0m in \u001b[0;36m<module>\u001b[0;34m()\u001b[0m\n\u001b[0;32m----> 1\u001b[0;31m \u001b[0mfalse\u001b[0m                         \u001b[0;31m# False vs false, false is not in the namespace\u001b[0m\u001b[0;34m\u001b[0m\u001b[0m\n\u001b[0m",
      "\u001b[0;31mNameError\u001b[0m: name 'false' is not defined"
     ]
    }
   ],
   "source": [
    "false                         # False vs false, false is not in the namespace"
   ]
  },
  {
   "cell_type": "markdown",
   "metadata": {
    "slideshow": {
     "slide_type": "fragment"
    }
   },
   "source": [
    "# Keywords\n",
    "\n",
    "    and       del       from      nonlocal   True\n",
    "    as        elif      global    None       try\n",
    "    assert    else      if        not        while\n",
    "    break     except    import    or         with\n",
    "    class     False     in        pass       yield\n",
    "    continue  finally   is        raise   \n",
    "    def       for       lambda    return"
   ]
  },
  {
   "cell_type": "code",
   "execution_count": 3,
   "metadata": {
    "slideshow": {
     "slide_type": "fragment"
    }
   },
   "outputs": [
    {
     "ename": "SyntaxError",
     "evalue": "can't assign to keyword (<ipython-input-3-4fa53ba38eb0>, line 1)",
     "output_type": "error",
     "traceback": [
      "\u001b[0;36m  File \u001b[0;32m\"<ipython-input-3-4fa53ba38eb0>\"\u001b[0;36m, line \u001b[0;32m1\u001b[0m\n\u001b[0;31m    True = 13 + 42\u001b[0m\n\u001b[0m                  ^\u001b[0m\n\u001b[0;31mSyntaxError\u001b[0m\u001b[0;31m:\u001b[0m can't assign to keyword\n"
     ]
    }
   ],
   "source": [
    ">>> True = 13 + 42"
   ]
  },
  {
   "cell_type": "markdown",
   "metadata": {
    "slideshow": {
     "slide_type": "slide"
    }
   },
   "source": [
    "<h1>Some operators</h1>\n",
    "\n",
    "Operator  | Definition\n",
    "----------|----------\n",
    "==        | equal to\n",
    "!=        | not equal to\n",
    ">         | greater than \n",
    ">=        | greater than or equal to"
   ]
  },
  {
   "cell_type": "code",
   "execution_count": 4,
   "metadata": {
    "slideshow": {
     "slide_type": "subslide"
    }
   },
   "outputs": [
    {
     "data": {
      "text/plain": [
       "False"
      ]
     },
     "execution_count": 4,
     "metadata": {},
     "output_type": "execute_result"
    }
   ],
   "source": [
    ">>> 13 > 13"
   ]
  },
  {
   "cell_type": "code",
   "execution_count": 5,
   "metadata": {
    "slideshow": {
     "slide_type": "fragment"
    }
   },
   "outputs": [
    {
     "data": {
      "text/plain": [
       "True"
      ]
     },
     "execution_count": 5,
     "metadata": {},
     "output_type": "execute_result"
    }
   ],
   "source": [
    ">>> 13 >= 13"
   ]
  },
  {
   "cell_type": "code",
   "execution_count": 6,
   "metadata": {
    "slideshow": {
     "slide_type": "fragment"
    }
   },
   "outputs": [
    {
     "data": {
      "text/plain": [
       "True"
      ]
     },
     "execution_count": 6,
     "metadata": {},
     "output_type": "execute_result"
    }
   ],
   "source": [
    ">>> 'Diana' == 'Diana'"
   ]
  },
  {
   "cell_type": "code",
   "execution_count": 7,
   "metadata": {
    "slideshow": {
     "slide_type": "fragment"
    }
   },
   "outputs": [
    {
     "data": {
      "text/plain": [
       "False"
      ]
     },
     "execution_count": 7,
     "metadata": {},
     "output_type": "execute_result"
    }
   ],
   "source": [
    ">>> 'Bruce' != 'Bruce'"
   ]
  },
  {
   "cell_type": "code",
   "execution_count": 8,
   "metadata": {
    "slideshow": {
     "slide_type": "fragment"
    }
   },
   "outputs": [
    {
     "data": {
      "text/plain": [
       "True"
      ]
     },
     "execution_count": 8,
     "metadata": {},
     "output_type": "execute_result"
    }
   ],
   "source": [
    ">>> hosts = 35\n",
    ">>> hosts != 0"
   ]
  },
  {
   "cell_type": "markdown",
   "metadata": {
    "slideshow": {
     "slide_type": "slide"
    }
   },
   "source": [
    "<h1>'and' Truth Table</h1>\n",
    "\n",
    "Boolean 1  |     | Boolean 2  | Output\n",
    "-----------|-----|------------|-------\n",
    "True       | and | True       | True\n",
    "True       | and | False      | False\n",
    "False      | and | True       | False\n",
    "False      | and | False      | False\n",
    "\n",
    "\n",
    "NOTE: this short circuits to minimize needless processing"
   ]
  },
  {
   "cell_type": "code",
   "execution_count": 9,
   "metadata": {
    "slideshow": {
     "slide_type": "fragment"
    }
   },
   "outputs": [
    {
     "data": {
      "text/plain": [
       "True"
      ]
     },
     "execution_count": 9,
     "metadata": {},
     "output_type": "execute_result"
    }
   ],
   "source": [
    ">>> True and True"
   ]
  },
  {
   "cell_type": "code",
   "execution_count": 10,
   "metadata": {
    "slideshow": {
     "slide_type": "-"
    }
   },
   "outputs": [
    {
     "data": {
      "text/plain": [
       "True"
      ]
     },
     "execution_count": 10,
     "metadata": {},
     "output_type": "execute_result"
    }
   ],
   "source": [
    ">>> (13 < 42) and (3 > 1)"
   ]
  },
  {
   "cell_type": "code",
   "execution_count": 11,
   "metadata": {},
   "outputs": [
    {
     "data": {
      "text/plain": [
       "False"
      ]
     },
     "execution_count": 11,
     "metadata": {},
     "output_type": "execute_result"
    }
   ],
   "source": [
    ">>> (12 == 7 + 5) and ('Kara' == 'Selina')"
   ]
  },
  {
   "cell_type": "code",
   "execution_count": 18,
   "metadata": {},
   "outputs": [
    {
     "data": {
      "text/plain": [
       "3"
      ]
     },
     "execution_count": 18,
     "metadata": {},
     "output_type": "execute_result"
    }
   ],
   "source": [
    "4 and 3"
   ]
  },
  {
   "cell_type": "markdown",
   "metadata": {
    "slideshow": {
     "slide_type": "slide"
    }
   },
   "source": [
    "<h1>'or' Truth Table</h1>\n",
    "\n",
    "Boolean 1  |     | Boolean 2  | Output\n",
    "-----------|-----|------------|-------\n",
    "True       | or  | True       | True\n",
    "True       | or  | False      | True\n",
    "False      | or  | True       | True\n",
    "False      | or  | False      | False"
   ]
  },
  {
   "cell_type": "code",
   "execution_count": 13,
   "metadata": {
    "slideshow": {
     "slide_type": "fragment"
    }
   },
   "outputs": [
    {
     "data": {
      "text/plain": [
       "False"
      ]
     },
     "execution_count": 13,
     "metadata": {},
     "output_type": "execute_result"
    }
   ],
   "source": [
    ">>> False or False"
   ]
  },
  {
   "cell_type": "code",
   "execution_count": 14,
   "metadata": {},
   "outputs": [
    {
     "data": {
      "text/plain": [
       "True"
      ]
     },
     "execution_count": 14,
     "metadata": {},
     "output_type": "execute_result"
    }
   ],
   "source": [
    ">>> (8 > 4) or (9 != 9)"
   ]
  },
  {
   "cell_type": "code",
   "execution_count": 15,
   "metadata": {},
   "outputs": [
    {
     "data": {
      "text/plain": [
       "False"
      ]
     },
     "execution_count": 15,
     "metadata": {},
     "output_type": "execute_result"
    }
   ],
   "source": [
    ">>> ('Hello' != 'Hello') or (7 > 9)"
   ]
  },
  {
   "cell_type": "markdown",
   "metadata": {
    "slideshow": {
     "slide_type": "slide"
    }
   },
   "source": [
    "<h1>'not' operator</h1>"
   ]
  },
  {
   "cell_type": "code",
   "execution_count": 16,
   "metadata": {
    "slideshow": {
     "slide_type": "-"
    }
   },
   "outputs": [
    {
     "data": {
      "text/plain": [
       "True"
      ]
     },
     "execution_count": 16,
     "metadata": {},
     "output_type": "execute_result"
    }
   ],
   "source": [
    ">>> not False"
   ]
  },
  {
   "cell_type": "code",
   "execution_count": 17,
   "metadata": {
    "slideshow": {
     "slide_type": "-"
    }
   },
   "outputs": [
    {
     "data": {
      "text/plain": [
       "False"
      ]
     },
     "execution_count": 17,
     "metadata": {},
     "output_type": "execute_result"
    }
   ],
   "source": [
    ">>> not 7 > 5\n",
    "#   not (7 > 5)"
   ]
  },
  {
   "cell_type": "markdown",
   "metadata": {},
   "source": [
    "# Truth Value Testing\n",
    "\n",
    "**Any object** can be tested for truth value:\n",
    "\n",
    "* for use in an if or while condition\n",
    "* as an operand of Boolean operations\n",
    "\n",
    "## The following values are considered false:\n",
    "\n",
    "* `None`\n",
    "\n",
    "* `False`\n",
    "\n",
    "* zero of any numeric type, for example, `0, 0.0, 0j`.\n",
    "\n",
    "* any empty sequence, for example, `'', (), []`.\n",
    "\n",
    "* any empty mapping/dictionary, for example, `{}`.\n",
    "\n",
    "* instances of user-defined classes, if the class defines a `__bool__()` or `__len__()` method, when that method returns the integer zero or bool value False.\n",
    "\n",
    "* All other values are considered true — so objects of many types are always true.\n",
    "\n",
    "**NOTE**: Operations and built-in functions that have a Boolean result always return 0 or False for false and 1 or True for true, unless otherwise stated. (Important exception: the Boolean operations or and and always return one of their operands.)\n",
    "\n"
   ]
  },
  {
   "cell_type": "code",
   "execution_count": 19,
   "metadata": {},
   "outputs": [
    {
     "data": {
      "text/plain": [
       "True"
      ]
     },
     "execution_count": 19,
     "metadata": {},
     "output_type": "execute_result"
    }
   ],
   "source": [
    "outcome = True and True\n",
    "outcome"
   ]
  },
  {
   "cell_type": "code",
   "execution_count": 20,
   "metadata": {},
   "outputs": [
    {
     "data": {
      "text/plain": [
       "'and something here'"
      ]
     },
     "execution_count": 20,
     "metadata": {},
     "output_type": "execute_result"
    }
   ],
   "source": [
    "string1 = 'there is something here'\n",
    "string2 = 'and something here'\n",
    "\n",
    "outcome2 = string1 and string2\n",
    "outcome2"
   ]
  },
  {
   "cell_type": "code",
   "execution_count": 21,
   "metadata": {},
   "outputs": [
    {
     "data": {
      "text/plain": [
       "''"
      ]
     },
     "execution_count": 21,
     "metadata": {},
     "output_type": "execute_result"
    }
   ],
   "source": [
    "string1 = 'there is something here'\n",
    "string2 = ''\n",
    "\n",
    "outcome3 = string1 and string2\n",
    "outcome3"
   ]
  },
  {
   "cell_type": "code",
   "execution_count": 22,
   "metadata": {},
   "outputs": [
    {
     "data": {
      "text/plain": [
       "False"
      ]
     },
     "execution_count": 22,
     "metadata": {},
     "output_type": "execute_result"
    }
   ],
   "source": [
    "string1 = 'there is something here'\n",
    "string2 = ''\n",
    "\n",
    "outcome4 = string1 and string2\n",
    "bool(outcome4)"
   ]
  },
  {
   "cell_type": "markdown",
   "metadata": {
    "collapsed": true,
    "slideshow": {
     "slide_type": "slide"
    }
   },
   "source": [
    "# Experience Points!\n",
    "\n",
    "On the **IPython interpreter** do each of the following:\n",
    "\n",
    "Task | Sample Object(s)\n",
    "---|---\n",
    "Compare two items using `and` | 'Bruce', 0\n",
    "Compare two items using `or` | '', 42\n",
    "Use the `not` operator to make an object False | 'Selina' \n",
    "Compare two numbers using comparison operators | `>, <, >=, !=, ==`\n",
    "Create a more complex/nested comparison using parenthesis and Boolean operators| `('kara' _ 'clark') _ (0 _ 0.0)`\n"
   ]
  },
  {
   "cell_type": "markdown",
   "metadata": {
    "collapsed": true,
    "slideshow": {
     "slide_type": "slide"
    }
   },
   "source": [
    "# Code Blocks\n",
    "\n",
    "<ul>\n",
    "<li>Blocks set apart chunks of code</li>\n",
    "<li>Blocks are started with a colon</li>\n",
    "<li>Blocks are identified by indentation (Usually four spaces)</li>\n",
    "<li>Blocks may contain other nested blocks</li>\n",
    "<li>Blocks end when the code 'dedents' back to a higher level</li>\n",
    "</ul>"
   ]
  },
  {
   "cell_type": "markdown",
   "metadata": {
    "collapsed": true,
    "slideshow": {
     "slide_type": "fragment"
    }
   },
   "source": [
    "<code>block starting line:\n",
    "    indented code\n",
    "    indented code\n",
    "    block starting line:\n",
    "        indented code\n",
    "\n",
    "block starting line:\n",
    "    indented code</code>"
   ]
  },
  {
   "cell_type": "markdown",
   "metadata": {
    "collapsed": true,
    "slideshow": {
     "slide_type": "slide"
    }
   },
   "source": [
    "# Flow control\n",
    "\n",
    "\n",
    "<ul>\n",
    "<li>if</li>\n",
    "<li>if / else</li>\n",
    "<li>if / elif / else</li>\n",
    "<li>while</li>\n",
    "<li>for</li>\n",
    "</ul>\n"
   ]
  },
  {
   "cell_type": "markdown",
   "metadata": {
    "slideshow": {
     "slide_type": "slide"
    }
   },
   "source": [
    "<h1>If statement</h1>\n",
    "<ul>\n",
    "<li><code>if</code> keyword</li>\n",
    "<li>Test condition</li>\n",
    "<li>Colon</li>\n",
    "<li>Code block</li>\n",
    "</ul>"
   ]
  },
  {
   "cell_type": "code",
   "execution_count": 23,
   "metadata": {
    "slideshow": {
     "slide_type": "slide"
    }
   },
   "outputs": [
    {
     "name": "stdout",
     "output_type": "stream",
     "text": [
      "It attacks swiftly\n"
     ]
    }
   ],
   "source": [
    "weapon = 'batarang'\n",
    "if weapon == 'batarang':\n",
    "    print('It attacks swiftly')\n",
    "    \n",
    "if weapon == 'bat-darts':\n",
    "    print('It has extra range')    "
   ]
  },
  {
   "cell_type": "code",
   "execution_count": 24,
   "metadata": {
    "slideshow": {
     "slide_type": "slide"
    }
   },
   "outputs": [
    {
     "name": "stdout",
     "output_type": "stream",
     "text": [
      "It has extra range\n"
     ]
    }
   ],
   "source": [
    "weapon = 'bat-darts'\n",
    "if weapon == 'batarang':\n",
    "    print('It attacks swiftly')\n",
    "    \n",
    "elif weapon == 'bat-darts':\n",
    "    print('It has extra range')    "
   ]
  },
  {
   "cell_type": "code",
   "execution_count": 25,
   "metadata": {
    "slideshow": {
     "slide_type": "slide"
    }
   },
   "outputs": [
    {
     "name": "stdout",
     "output_type": "stream",
     "text": [
      "It attacks swiftly\n"
     ]
    }
   ],
   "source": [
    "weapon = 'batarang'\n",
    "if weapon == 'batarang':\n",
    "    print('It attacks swiftly')\n",
    "    \n",
    "elif weapon == 'bat-darts':\n",
    "    print('It has extra range')    "
   ]
  },
  {
   "cell_type": "code",
   "execution_count": 28,
   "metadata": {
    "slideshow": {
     "slide_type": "subslide"
    }
   },
   "outputs": [
    {
     "name": "stdout",
     "output_type": "stream",
     "text": [
      "Could not identify the weapon\n"
     ]
    }
   ],
   "source": [
    "weapon = 'bat stungun'\n",
    "if weapon == 'batarang':\n",
    "    print('It attacks swiftly')\n",
    "elif weapon == 'bat-darts':\n",
    "    print('It has more range')\n",
    "else:\n",
    "    print('Could not identify the weapon')"
   ]
  },
  {
   "cell_type": "code",
   "execution_count": 29,
   "metadata": {
    "slideshow": {
     "slide_type": "slide"
    }
   },
   "outputs": [
    {
     "name": "stdout",
     "output_type": "stream",
     "text": [
      "How many computers have been scanned? 60\n",
      "More than ten\n"
     ]
    }
   ],
   "source": [
    "hosts = int(input('How many computers have been scanned? '))\n",
    "if hosts < 10:\n",
    "    print('Less than ten')\n",
    "elif hosts >= 10:\n",
    "    print('More than ten')\n",
    "elif hosts >= 50:\n",
    "    print('More than fifty')\n",
    "elif hosts > 500:\n",
    "    print('More than five hundred')\n",
    "    \n",
    "# This doesn't do what we expect...\n",
    "# Why not?"
   ]
  },
  {
   "cell_type": "code",
   "execution_count": null,
   "metadata": {
    "collapsed": true,
    "slideshow": {
     "slide_type": "subslide"
    }
   },
   "outputs": [],
   "source": [
    "hosts = int(input('How many computers have been scanned? '))\n",
    "if hosts < 10:\n",
    "    print('Less than ten')\n",
    "elif hosts > 500:\n",
    "    print('More than five hundred')\n",
    "elif hosts >= 50:\n",
    "    print('More than fifty')\n",
    "elif hosts >= 10:\n",
    "    print('More than ten')\n",
    "    \n",
    "# This is more like it..."
   ]
  },
  {
   "cell_type": "markdown",
   "metadata": {
    "slideshow": {
     "slide_type": "slide"
    }
   },
   "source": [
    "# Experience Points!\n",
    "\n",
    "In your **text editor** create a simple script called session02.py to do the following:\n",
    "\n",
    "Execute your script in the **IPython interpreter** using the command `run session02.py`.\n",
    "\n",
    "I suggest that as you add each feature to your script that you run it right away to test it incrementally. \n",
    "\n",
    "1. Create a variable with your first name as a string AND save it with the label: `myfname`.\n",
    "1. Create a variable with your age as an integer AND save it with the label: `myage`.\n",
    "\n",
    "1. Use `input()` to prompt for your first name AND save it with the label: `fname`.\n",
    "1. Create an `if` statement to test whether `fname` is equivalent to `myfname`. \n",
    "1. In the `if` code block: \n",
    "   1. Use `input()` prompt for your age AND save it with the label: `age` \n",
    "   1. NOTE: don't forget to convert the value to an integer.\n",
    "   1. Create a nested `if` statement to test whether `myage` and `age` are equivalent.\n",
    "1. If both tests pass, have the script print: `Your identity has been verified`"
   ]
  },
  {
   "cell_type": "markdown",
   "metadata": {
    "collapsed": true,
    "slideshow": {
     "slide_type": "slide"
    }
   },
   "source": [
    "<h1>While loops</h1>\n",
    "<ul>\n",
    "<li><code>while</code> keyword</li>\n",
    "<li>Test condition</li>\n",
    "<li>Colon</li>\n",
    "<li>Code block</li>\n",
    "</ul>"
   ]
  },
  {
   "cell_type": "code",
   "execution_count": 30,
   "metadata": {
    "slideshow": {
     "slide_type": "slide"
    }
   },
   "outputs": [
    {
     "name": "stdout",
     "output_type": "stream",
     "text": [
      "Scanning!\n",
      "Scanning!\n",
      "Scanning!\n",
      "Scanning!\n",
      "Scanning!\n",
      "Scanning!\n",
      "Scanning!\n",
      "Scanning!\n"
     ]
    }
   ],
   "source": [
    "ipaddresses = 5\n",
    "while ipaddresses < 13:\n",
    "    print('Scanning!')\n",
    "    ipaddresses = ipaddresses + 1       # there is a 'simpler' way to write this..."
   ]
  },
  {
   "cell_type": "code",
   "execution_count": 31,
   "metadata": {
    "slideshow": {
     "slide_type": "subslide"
    }
   },
   "outputs": [
    {
     "name": "stdout",
     "output_type": "stream",
     "text": [
      "What would you like to do?\n",
      "play a game of thermonuclear war\n",
      "What would you like to do?\n",
      "running\n",
      "What would you like to do?\n",
      "biking\n",
      "What would you like to do?\n",
      "surfign\n",
      "What would you like to do?\n",
      "quit\n",
      "You have quit\n"
     ]
    }
   ],
   "source": [
    "response = ''\n",
    "while response != 'quit':\n",
    "    print('What would you like to do?')\n",
    "    response = input()\n",
    "print('You have quit')"
   ]
  },
  {
   "cell_type": "code",
   "execution_count": null,
   "metadata": {
    "collapsed": true,
    "slideshow": {
     "slide_type": "subslide"
    }
   },
   "outputs": [],
   "source": [
    "## The break keyword\n",
    "\n",
    "while True:\n",
    "    print('What would you like to do?')\n",
    "    response = input()\n",
    "    if response == 'quit':\n",
    "        break\n",
    "print('You have quit')"
   ]
  },
  {
   "cell_type": "code",
   "execution_count": 1,
   "metadata": {},
   "outputs": [
    {
     "name": "stdout",
     "output_type": "stream",
     "text": [
      "bob\n",
      "what is the age 43\n",
      "<class 'int'>\n",
      "bob\n",
      "what is the age 42\n",
      "<class 'int'>\n",
      "bob\n",
      "what is the age 41\n",
      "<class 'int'>\n",
      "bob\n",
      "what is the age 0\n",
      "<class 'int'>\n",
      "you quit\n"
     ]
    }
   ],
   "source": [
    "age = 44\n",
    "while age:\n",
    "    print('bob')\n",
    "    age = int(input('what is the age '))\n",
    "    print(type(age))\n",
    "print('you quit')"
   ]
  },
  {
   "cell_type": "markdown",
   "metadata": {
    "slideshow": {
     "slide_type": "slide"
    }
   },
   "source": [
    "<h1>Endless while loops (don't do this!)</h1>\n",
    "<img src='newWhile.png'>"
   ]
  },
  {
   "cell_type": "markdown",
   "metadata": {
    "slideshow": {
     "slide_type": "subslide"
    }
   },
   "source": [
    "<img src='newWhile2.png'>"
   ]
  },
  {
   "cell_type": "markdown",
   "metadata": {
    "slideshow": {
     "slide_type": "slide"
    }
   },
   "source": [
    "# CTRL+C\n",
    "\n",
    "# YMMV\n",
    "\n",
    "This generally works. In Jupyter Notebooks, you may need to:\n",
    "\n",
    "Kernel >>> Restart\n",
    "\n"
   ]
  },
  {
   "cell_type": "markdown",
   "metadata": {
    "slideshow": {
     "slide_type": "slide"
    }
   },
   "source": [
    "<h1>Range function</h1>\n",
    "<ol>\n",
    "<li><code>range(3)         -> 0, 1, 2</code></li>\n",
    "<li><code>range(5, 8)      -> 5, 6, 7</code></li>\n",
    "<li><code>range(2, 11, 2)  -> 2, 4, 6, 8, 10</code></li>\n",
    "<li><code>range(10, 1, -2) -> 10, 8, 6, 4, 2</code></li>\n",
    "</ol>\n",
    "\n",
    "NOTE: range produces a range object. NOT a list."
   ]
  },
  {
   "cell_type": "markdown",
   "metadata": {
    "collapsed": true,
    "slideshow": {
     "slide_type": "slide"
    }
   },
   "source": [
    "<h1>For loops</h1>\n",
    "<ul>\n",
    "<li><code>for</code> keyword</li>\n",
    "<li>Place holder variable</li>\n",
    "<li><code>in</code> keyword</li>\n",
    "<li>Iterable</li>\n",
    "<li>Colon</li>\n",
    "<li>Code block</li>\n",
    "</ul>"
   ]
  },
  {
   "cell_type": "code",
   "execution_count": 2,
   "metadata": {
    "slideshow": {
     "slide_type": "slide"
    }
   },
   "outputs": [
    {
     "name": "stdout",
     "output_type": "stream",
     "text": [
      "0\n",
      "1\n",
      "2\n"
     ]
    }
   ],
   "source": [
    "for number in range(3):\n",
    "    print(number)"
   ]
  },
  {
   "cell_type": "code",
   "execution_count": 3,
   "metadata": {
    "slideshow": {
     "slide_type": "fragment"
    }
   },
   "outputs": [
    {
     "name": "stdout",
     "output_type": "stream",
     "text": [
      "I scanned 10 log files\n"
     ]
    }
   ],
   "source": [
    "total = 0\n",
    "for number in range(5):\n",
    "    total = total + number                 # 0 + 1 + 2 + 3 + 4 --> 10\n",
    "\n",
    "print('I scanned ' + str(total) + ' log files')"
   ]
  },
  {
   "cell_type": "code",
   "execution_count": 4,
   "metadata": {
    "slideshow": {
     "slide_type": "subslide"
    }
   },
   "outputs": [
    {
     "name": "stdout",
     "output_type": "stream",
     "text": [
      "13\n",
      "14\n",
      "15\n",
      "16\n",
      "17\n",
      "18\n"
     ]
    }
   ],
   "source": [
    "# from 13 up to, but not including 19\n",
    "\n",
    "for num in range(13, 19):\n",
    "    print(num)"
   ]
  },
  {
   "cell_type": "code",
   "execution_count": 5,
   "metadata": {
    "slideshow": {
     "slide_type": "fragment"
    }
   },
   "outputs": [
    {
     "name": "stdout",
     "output_type": "stream",
     "text": [
      "13\n",
      "15\n",
      "17\n"
     ]
    }
   ],
   "source": [
    "# from 13 up to, but not including 19, stepping by twos.\n",
    "\n",
    "for num in range(13, 19, 2):\n",
    "    print(num)"
   ]
  },
  {
   "cell_type": "code",
   "execution_count": 15,
   "metadata": {
    "slideshow": {
     "slide_type": "fragment"
    }
   },
   "outputs": [
    {
     "name": "stdout",
     "output_type": "stream",
     "text": [
      "10\n",
      "8\n",
      "6\n",
      "4\n",
      "2\n",
      "0\n"
     ]
    }
   ],
   "source": [
    "# from 10 down to, but not including -1, stepping by negative twos.\n",
    "\n",
    "for num in range(10, -1, -2):        \n",
    "    print(num)"
   ]
  },
  {
   "cell_type": "code",
   "execution_count": 16,
   "metadata": {
    "slideshow": {
     "slide_type": "slide"
    }
   },
   "outputs": [
    {
     "name": "stdout",
     "output_type": "stream",
     "text": [
      "0\n",
      "1\n",
      "2\n",
      "3\n",
      "4\n"
     ]
    }
   ],
   "source": [
    "for num in range(10):\n",
    "    if num == 5:\n",
    "        break\n",
    "    print(num)"
   ]
  },
  {
   "cell_type": "code",
   "execution_count": 17,
   "metadata": {},
   "outputs": [
    {
     "name": "stdout",
     "output_type": "stream",
     "text": [
      "10\n",
      "11\n",
      "12\n",
      "13\n",
      "14\n",
      "15\n",
      "16\n",
      "17\n",
      "18\n",
      "19\n"
     ]
    }
   ],
   "source": [
    "num_hosts = 20\n",
    "for hostID in range(10, num_hosts):\n",
    "    print(hostID)"
   ]
  },
  {
   "cell_type": "markdown",
   "metadata": {
    "slideshow": {
     "slide_type": "slide"
    }
   },
   "source": [
    "# Experience Points!\n",
    "\n",
    "In your **text editor** create a simple script called session02_forloops.py to do the following:\n",
    "\n",
    "Execute your script in the **IPython interpreter** using the command `run session02_forloops.py`.\n",
    "\n",
    "I suggest that as you add each feature to your script that you run it right away to test it incrementally. \n",
    "\n",
    "## Part 1\n",
    "\n",
    "1. Use `input()` to prompt for your name AND save it as `myname`\n",
    "1. Create a variable with zero as an integer AND save it with the label: `counter`\n",
    "1. Create a while loop that increments the counter by 1 AND prints your name during each cycle UNTIL the counter is equal to 10.\n",
    "\n",
    "## Part 2\n",
    "\n",
    "1. Use `input()` to prompt for your age and save it as `myage`\n",
    "1. Use `range()` in a for loop and `myage` to set the upperbound.\n",
    "1. `Print()` the output of range to count up to your age. \n"
   ]
  },
  {
   "cell_type": "markdown",
   "metadata": {
    "collapsed": true,
    "slideshow": {
     "slide_type": "slide"
    }
   },
   "source": [
    "# Importing modules\n",
    "\n",
    "<ul>\n",
    "<li>Import `keyword`</li>\n",
    "<li>Module name</li>\n",
    "<li><font color='red'>[, other module names]</font>        <--- optional</li>\n",
    "</ul>"
   ]
  },
  {
   "cell_type": "code",
   "execution_count": 18,
   "metadata": {
    "slideshow": {
     "slide_type": "fragment"
    }
   },
   "outputs": [
    {
     "data": {
      "text/plain": [
       "5.0"
      ]
     },
     "execution_count": 18,
     "metadata": {},
     "output_type": "execute_result"
    }
   ],
   "source": [
    "import math\n",
    "math.sqrt(25)"
   ]
  },
  {
   "cell_type": "markdown",
   "metadata": {},
   "source": [
    "# Whoa, what? How do we use a module?\n",
    "\n",
    "## Object introspection\n",
    "\n"
   ]
  },
  {
   "cell_type": "markdown",
   "metadata": {},
   "source": [
    "`math.<-tab complete->`"
   ]
  },
  {
   "cell_type": "markdown",
   "metadata": {},
   "source": [
    "<code>\n",
    "math.acos\n",
    "math.acosh\n",
    "math.asin\n",
    "math.asinh\n",
    "math.atan\n",
    "math.atan2\n",
    "math.atanh\n",
    "math.ceil\n",
    "math.copysign\n",
    "math.cos\n",
    "math.cosh\n",
    "math.degrees\n",
    "math.e\n",
    "math.erf\n",
    ". . .\n",
    "math.hypot\n",
    "math.isnan\n",
    "math.inf\n",
    "math.isclose\n",
    "math.isfinite\n",
    "math.isinf\n",
    "</code>"
   ]
  },
  {
   "cell_type": "markdown",
   "metadata": {},
   "source": [
    "<code>math.hypot?\n",
    "\n",
    "Docstring:\n",
    "hypot(x, y)\n",
    "\n",
    "Return the Euclidean distance, sqrt(x*x + y*y).\n",
    "Type:      builtin_function_or_method\n",
    "</code>"
   ]
  },
  {
   "cell_type": "code",
   "execution_count": 21,
   "metadata": {
    "collapsed": true
   },
   "outputs": [],
   "source": [
    "math.cos?"
   ]
  },
  {
   "cell_type": "code",
   "execution_count": 26,
   "metadata": {
    "slideshow": {
     "slide_type": "subslide"
    }
   },
   "outputs": [
    {
     "name": "stdout",
     "output_type": "stream",
     "text": [
      "timer:  1 second(s)\n",
      "timer:  2 second(s)\n",
      "timer:  3 second(s)\n",
      "timer:  4 second(s)\n"
     ]
    }
   ],
   "source": [
    "import time\n",
    "  \n",
    "for x in range(1, 5):\n",
    "    time.sleep(1)          # will pause for a second between \n",
    "                           # print statements\n",
    "    print('timer: ', x, 'second(s)')\n",
    "    "
   ]
  },
  {
   "cell_type": "code",
   "execution_count": 23,
   "metadata": {
    "slideshow": {
     "slide_type": "fragment"
    }
   },
   "outputs": [
    {
     "name": "stdout",
     "output_type": "stream",
     "text": [
      "sleeping: 1\n",
      "sleeping: 2\n",
      "sleeping: 3\n",
      "sleeping: 4\n"
     ]
    }
   ],
   "source": [
    "from time import sleep          # more on this syntax later in\n",
    "                                # the course...\n",
    "for x in range(1, 5):\n",
    "    sleep(1)\n",
    "    print('sleeping:', x)"
   ]
  },
  {
   "cell_type": "code",
   "execution_count": null,
   "metadata": {
    "collapsed": true,
    "slideshow": {
     "slide_type": "slide"
    }
   },
   "outputs": [],
   "source": [
    "import random\n",
    "for number in range(5):\n",
    "    print(random.random())"
   ]
  },
  {
   "cell_type": "code",
   "execution_count": null,
   "metadata": {
    "collapsed": true,
    "slideshow": {
     "slide_type": "slide"
    }
   },
   "outputs": [],
   "source": [
    "import time, random, math       # perfectly legit way to import\n",
    "                                # multiple modules"
   ]
  },
  {
   "cell_type": "markdown",
   "metadata": {
    "slideshow": {
     "slide_type": "slide"
    }
   },
   "source": [
    "# Experience Points!\n",
    "\n",
    "On the **IPython interpreter** do each of the following:\n",
    "\n",
    "1. Import the `random` module\n",
    "1. Use tab completion to identify the functions found in the module\n",
    "1. Use the help functionality to identify what these three functions do: `random.randint`, `random.random`, `random.choice`"
   ]
  }
 ],
 "metadata": {
  "anaconda-cloud": {},
  "celltoolbar": "Slideshow",
  "kernelspec": {
   "display_name": "Python [default]",
   "language": "python",
   "name": "python3"
  },
  "language_info": {
   "codemirror_mode": {
    "name": "ipython",
    "version": 3
   },
   "file_extension": ".py",
   "mimetype": "text/x-python",
   "name": "python",
   "nbconvert_exporter": "python",
   "pygments_lexer": "ipython3",
   "version": "3.5.3"
  }
 },
 "nbformat": 4,
 "nbformat_minor": 1
}
