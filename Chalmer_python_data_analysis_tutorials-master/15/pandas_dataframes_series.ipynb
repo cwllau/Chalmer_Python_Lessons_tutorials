{
 "cells": [
  {
   "cell_type": "markdown",
   "metadata": {},
   "source": [
    "# Welcome to the Dark Art of Coding:\n",
    "## Introduction to Python\n",
    "pandas: Series & DataFrames\n",
    "\n",
    "<img src='../images/dark_art_logo.600px.png' width='300' style=\"float:right\">"
   ]
  },
  {
   "cell_type": "markdown",
   "metadata": {},
   "source": [
    "# Objectives\n",
    "---"
   ]
  },
  {
   "cell_type": "markdown",
   "metadata": {},
   "source": [
    "In this session, students should expect to:\n",
    "\n",
    "* understand the purpose and application of pandas to data analysis problems\n",
    "* understand how to create and use a Series\n",
    "* understand how to create and use a DataFrame\n",
    "* explore various simple examples of pandas usage\n"
   ]
  },
  {
   "cell_type": "markdown",
   "metadata": {},
   "source": [
    "# `pandas` basics\n",
    "---"
   ]
  },
  {
   "cell_type": "markdown",
   "metadata": {
    "collapsed": true
   },
   "source": [
    "`pandas` is one of the premier data analysis libraries in the Python ecosystem. It offers high-performance, easy-to-use data structures and data analysis tools enabling you to carry out your entire data analysis workflow.\n",
    "\n",
    "`pandas` is used for:\n",
    "\n",
    "* data analysis/science\n",
    "* financial analysis\n",
    "* data manipulation\n",
    "* data cleansing\n",
    "* data transformation"
   ]
  },
  {
   "cell_type": "markdown",
   "metadata": {},
   "source": [
    "`pandas` has tools to read and write data to and from multiple data formats.\n",
    "\n",
    "It also includes tools that simplify:\n",
    "\n",
    "* grouping data\n",
    "* applying transformations to columns, rows and individual cells\n",
    "* working with dates and times"
   ]
  },
  {
   "cell_type": "markdown",
   "metadata": {},
   "source": [
    "# List vs. Dict vs. Series vs. DataFrame\n",
    "---"
   ]
  },
  {
   "cell_type": "markdown",
   "metadata": {
    "collapsed": true
   },
   "source": [
    "## list \n",
    "```python\n",
    "LIST:                               \n",
    "mylist = ['A', 'B', 'C']            \n",
    "```\n",
    "\n",
    "**indexable**: \n",
    "\n",
    "`mylist[0]` by integer            \n",
    "\n",
    "**sliceable**: \n",
    "\n",
    "`mylist[0:2]` by integer\n",
    " "
   ]
  },
  {
   "cell_type": "markdown",
   "metadata": {
    "collapsed": true
   },
   "source": [
    "## dict\n",
    "```\n",
    "DICTIONARY:\n",
    "mydict = {'alpha': 1,\n",
    "          'beta': 2,\n",
    "          'gamma': 2}\n",
    "```\n",
    "\n",
    "**indexable**: \n",
    "\n",
    "`mydict['alpha']` by key\n"
   ]
  },
  {
   "cell_type": "markdown",
   "metadata": {},
   "source": [
    "## Series\n",
    "```\n",
    "myseries = Series(['bruce', 'selina', 'kara', 'clark])\n",
    "          column\n",
    "rows\n",
    "0         'bruce'\n",
    "1         'selina'\n",
    "2         'kara'\n",
    "'three'   'clark'\n",
    "```\n",
    "\n",
    "**indexable**: \n",
    "\n",
    "`myseries[0]` by integer\n",
    "\n",
    "`myseries['three']` by row name\n",
    "\n",
    "**sliceable**:\n",
    "\n",
    "`myseries[0:3]`                  "
   ]
  },
  {
   "cell_type": "markdown",
   "metadata": {},
   "source": [
    "## DataFrame:\n",
    "```\n",
    "mydataframe = DataFrame(lots of data...)\n",
    "        col1      col2        col3      age\n",
    "rows\n",
    "0       'bruce'   'wayne'     'M'       42\n",
    "1       'selina'  'kyle'      'F'       34\n",
    "'two'   'kara'    'zor-el'    'F'       27\n",
    "3       'clark'   'kent'      'M'       35\n",
    "```\n",
    "\n",
    "**indexable**\n",
    "\n",
    "by either row(s) or column(s) \n",
    "\n",
    "`mydataframe['col1']`\n",
    "\n",
    "`mydataframe[['col1', 'age']]`\n",
    "\n"
   ]
  },
  {
   "cell_type": "markdown",
   "metadata": {},
   "source": [
    "# Series\n",
    "---"
   ]
  },
  {
   "cell_type": "code",
   "execution_count": 8,
   "metadata": {},
   "outputs": [
    {
     "data": {
      "text/plain": [
       "0    33\n",
       "1    37\n",
       "2    27\n",
       "3    42\n",
       "dtype: int64"
      ]
     },
     "execution_count": 8,
     "metadata": {},
     "output_type": "execute_result"
    }
   ],
   "source": [
    "# Let's start by making a simple Series.\n",
    "# It is customary to import pandas by the alias: pd\n",
    "\n",
    "import pandas as pd\n",
    "from pandas import Series\n",
    "\n",
    "s = Series([33, 37, 27, 42])\n",
    "\n",
    "# pandas will assign an index automatically starting at \"0\"\n",
    "\n",
    "s"
   ]
  },
  {
   "cell_type": "code",
   "execution_count": 9,
   "metadata": {},
   "outputs": [
    {
     "name": "stdout",
     "output_type": "stream",
     "text": [
      "<class 'pandas.core.series.Series'>\n"
     ]
    }
   ],
   "source": [
    "# We can see that the object is a Series object\n",
    "\n",
    "print(type(s))"
   ]
  },
  {
   "cell_type": "code",
   "execution_count": 18,
   "metadata": {},
   "outputs": [
    {
     "data": {
      "text/plain": [
       "bruce     33\n",
       "selina    37\n",
       "kara      27\n",
       "clark     42\n",
       "Name: Justice League ages, dtype: int64"
      ]
     },
     "execution_count": 18,
     "metadata": {},
     "output_type": "execute_result"
    }
   ],
   "source": [
    "# Series objects can be assigned a name \n",
    "# The index can also be assigned directly.\n",
    "\n",
    "s.name = 'Justice League ages'\n",
    "s.index = ['bruce', 'selina', 'kara', 'clark']\n",
    "\n",
    "s"
   ]
  },
  {
   "cell_type": "code",
   "execution_count": 33,
   "metadata": {},
   "outputs": [
    {
     "data": {
      "text/plain": [
       "hal       37\n",
       "victor    36\n",
       "diana     10\n",
       "billy     36\n",
       "Name: More Justice League ages, dtype: int64"
      ]
     },
     "execution_count": 33,
     "metadata": {},
     "output_type": "execute_result"
    }
   ],
   "source": [
    "# The Series factory function allows you to assign attributes\n",
    "#     such as the index directly.\n",
    "\n",
    "s1 = Series([37, 36, 10, 36],\n",
    "            index=['hal', 'victor', 'diana', 'billy'],\n",
    "            name='More Justice League ages')\n",
    "s1"
   ]
  },
  {
   "cell_type": "code",
   "execution_count": 34,
   "metadata": {},
   "outputs": [
    {
     "data": {
      "text/plain": [
       "36"
      ]
     },
     "execution_count": 34,
     "metadata": {},
     "output_type": "execute_result"
    }
   ],
   "source": [
    "# Accessing a row directly uses brackets and the \n",
    "#     name of the row.\n",
    "\n",
    "s1['billy']"
   ]
  },
  {
   "cell_type": "code",
   "execution_count": 36,
   "metadata": {},
   "outputs": [
    {
     "data": {
      "text/plain": [
       "hal       37\n",
       "victor    36\n",
       "diana     32\n",
       "billy     36\n",
       "Name: More Justice League ages, dtype: int64"
      ]
     },
     "execution_count": 36,
     "metadata": {},
     "output_type": "execute_result"
    }
   ],
   "source": [
    "# Similarly, assignment of a value to a row\n",
    "# uses bracket indexing\n",
    "\n",
    "s1['diana'] = 32\n",
    "s1"
   ]
  },
  {
   "cell_type": "code",
   "execution_count": 38,
   "metadata": {},
   "outputs": [
    {
     "data": {
      "text/plain": [
       "hal       37\n",
       "victor    36\n",
       "billy     36\n",
       "Name: More Justice League ages, dtype: int64"
      ]
     },
     "execution_count": 38,
     "metadata": {},
     "output_type": "execute_result"
    }
   ],
   "source": [
    "# Rows can be filtered using comparison operators\n",
    "#     such as ==, <=, >=\n",
    "\n",
    "s1[s1 >= 35]"
   ]
  },
  {
   "cell_type": "code",
   "execution_count": 39,
   "metadata": {},
   "outputs": [
    {
     "data": {
      "text/plain": [
       "hal       74\n",
       "victor    72\n",
       "diana     64\n",
       "billy     72\n",
       "Name: More Justice League ages, dtype: int64"
      ]
     },
     "execution_count": 39,
     "metadata": {},
     "output_type": "execute_result"
    }
   ],
   "source": [
    "# Much like numpy, pandas Series (and DataFrames)\n",
    "#     offer vector mathematics whereby you can add to\n",
    "#     or multiply against all rows or cells\n",
    "#     WITHOUT using a for loop.\n",
    "\n",
    "s1*2"
   ]
  },
  {
   "cell_type": "code",
   "execution_count": 27,
   "metadata": {},
   "outputs": [
    {
     "data": {
      "text/plain": [
       "hal       37\n",
       "victor    36\n",
       "diana     32\n",
       "billy     36\n",
       "Name: More Justice League ages, dtype: int64"
      ]
     },
     "execution_count": 27,
     "metadata": {},
     "output_type": "execute_result"
    }
   ],
   "source": [
    "s1"
   ]
  },
  {
   "cell_type": "code",
   "execution_count": 28,
   "metadata": {},
   "outputs": [
    {
     "data": {
      "text/plain": [
       "diana    640\n",
       "billy    720\n",
       "Name: More Justice League ages, dtype: int64"
      ]
     },
     "execution_count": 28,
     "metadata": {},
     "output_type": "execute_result"
    }
   ],
   "source": [
    "s1[['diana', 'billy']]*20"
   ]
  },
  {
   "cell_type": "code",
   "execution_count": 31,
   "metadata": {},
   "outputs": [
    {
     "data": {
      "text/plain": [
       "True"
      ]
     },
     "execution_count": 31,
     "metadata": {},
     "output_type": "execute_result"
    }
   ],
   "source": [
    "'diana' in s1"
   ]
  },
  {
   "cell_type": "code",
   "execution_count": 32,
   "metadata": {},
   "outputs": [
    {
     "data": {
      "text/plain": [
       "False"
      ]
     },
     "execution_count": 32,
     "metadata": {},
     "output_type": "execute_result"
    }
   ],
   "source": [
    "'lex' in s1"
   ]
  },
  {
   "cell_type": "code",
   "execution_count": null,
   "metadata": {
    "collapsed": true
   },
   "outputs": [],
   "source": [
    "names = {'bruce wayne': 'bwayne@jleague.org',\n",
    "         'hal jordan': 'hjordan@jleague.org',\n",
    "         'clark kent': 'ckent@jleague.org',\n",
    "         'barry allen': 'ballen@jleague.org',\n",
    "         'diana prince': 'dprince@jleague.org',\n",
    "         'arthur curry': 'acurry@jleague.org',\n",
    "         'billy batson': 'bbatson@jleague.org',\n",
    "         'john jones': 'jjones@jleague.org',\n",
    "         'victor stone': 'vstone@jleague.org',\n",
    "         'dick grayson': 'dgrayson@jleague.org',\n",
    "         'ray palmer': 'rpalmer@jleague.org',\n",
    "         'dinah lance': 'dlance@jleague.org',\n",
    "         'kara zor-el': 'kzor-el@jleague.org',\n",
    "         'john constantine': 'jconstantine@jleague.org',\n",
    "         'barbara gordon': 'bgordon@jleague.org',\n",
    "         'kyle rayner': 'krayner@jleague.org',\n",
    "         'selina kyle': 'skyle@jleague.org',\n",
    "         'wally west': 'wwest@jleague.org'\n",
    "         }\n",
    "\n",
    "emails = Series(names)\n",
    "# emails.index\n",
    "# emails.values"
   ]
  },
  {
   "cell_type": "code",
   "execution_count": null,
   "metadata": {
    "collapsed": true
   },
   "outputs": [],
   "source": [
    "s1 = Series(range(10, 16), index=['a', 'b', 'c', 'd', 'e', 'f'])\n",
    "s2 = Series(range(16, 22), index=['a', 'b', 'c', 'x', 'y', 'z'])\n",
    "\n",
    "# s1\n",
    "# s2"
   ]
  },
  {
   "cell_type": "code",
   "execution_count": null,
   "metadata": {
    "collapsed": true
   },
   "outputs": [],
   "source": [
    "s3 = s1 + s2\n",
    "s1 + s2\n",
    "\n",
    "# type(s3)\n",
    "# pd.isnull(s3)\n",
    "# s3.isnull()\n",
    "# s3.<tab>"
   ]
  },
  {
   "cell_type": "code",
   "execution_count": null,
   "metadata": {
    "collapsed": true
   },
   "outputs": [],
   "source": [
    "# How do I learn more?\n",
    "# s3.<method_name>?        # just ask by typing the method name (sans parenthesis) and \n",
    "#                          # adding a question mark to see the builtin help docs\n",
    "# \n",
    "# s3.value_counts?\n",
    "# s3.value_counts(dropna=False)"
   ]
  },
  {
   "cell_type": "code",
   "execution_count": null,
   "metadata": {
    "collapsed": true
   },
   "outputs": [],
   "source": [
    "s3.dropna()\n",
    "\n",
    "# s3"
   ]
  },
  {
   "cell_type": "code",
   "execution_count": null,
   "metadata": {
    "collapsed": true
   },
   "outputs": [],
   "source": [
    "s4 = Series([42, 1, 1, 1, 2, 2, 3, 3, 3, 3, 3, 3, 4, 5, 6])\n",
    "\n",
    "# s4.unique()\n",
    "# s4.value_counts()\n",
    "# s4.max()\n",
    "# s4 + 2"
   ]
  },
  {
   "cell_type": "code",
   "execution_count": null,
   "metadata": {
    "collapsed": true
   },
   "outputs": [],
   "source": [
    "def transmogrifier(x):\n",
    "    '''hat tip to Calvin and Hobbes for introducing me to this \n",
    "    truly fantastic word. thanks, bill watterson.\n",
    "\n",
    "    \"transform, especially in a surprising or magical manner.\"\n",
    "    '''\n",
    "    new_val = '- ' + str(x ** 3) + ' -'\n",
    "    return new_val\n",
    "\n",
    "s4.apply(transmogrifier)\n"
   ]
  },
  {
   "cell_type": "markdown",
   "metadata": {},
   "source": [
    "# DataFrames\n",
    "---"
   ]
  },
  {
   "cell_type": "code",
   "execution_count": null,
   "metadata": {
    "collapsed": true
   },
   "outputs": [],
   "source": [
    "# Making a DataFrame # 1\n",
    "# Using a dictionary:\n",
    "\n",
    "data = {'hero': ['billy', 'billy', 'billy', 'selina', 'selina'],\n",
    "        'date': ['Jan 10', 'Jan 11', 'Jan 12', 'Jan 10', 'Jan 11'],\n",
    "        'emails': [111, 121, 93, 211, 210]}\n",
    "\n",
    "df = DataFrame(data)"
   ]
  },
  {
   "cell_type": "code",
   "execution_count": null,
   "metadata": {
    "collapsed": true
   },
   "outputs": [],
   "source": [
    "df = DataFrame(data, columns=['date', 'hero', 'emails'])"
   ]
  },
  {
   "cell_type": "code",
   "execution_count": null,
   "metadata": {
    "collapsed": true
   },
   "outputs": [],
   "source": [
    "df = DataFrame(data, columns=['date', 'hero', 'emails', 'instagrams'])\n",
    "\n",
    "df.index = [1, 2, 3, 4, 5]\n",
    "\n",
    "# df\n",
    "# df.columns"
   ]
  },
  {
   "cell_type": "code",
   "execution_count": null,
   "metadata": {
    "collapsed": true
   },
   "outputs": [],
   "source": [
    "# df['hero']\n",
    "# df.hero\n",
    "\n",
    "# df.ix[3]\n",
    "# df.ix[3:4]\n",
    "# df.ix[3:5]\n",
    "# df.ix[1:5:2]"
   ]
  },
  {
   "cell_type": "code",
   "execution_count": null,
   "metadata": {
    "collapsed": true
   },
   "outputs": [],
   "source": [
    "df.instagrams = 50\n",
    "ins = Series([10, 20, 30], index=[1, 3, 5])\n",
    "\n",
    "# df.instagrams = ins"
   ]
  },
  {
   "cell_type": "code",
   "execution_count": null,
   "metadata": {
    "collapsed": true
   },
   "outputs": [],
   "source": [
    "df['overworked'] = df['emails'] >= 120"
   ]
  },
  {
   "cell_type": "code",
   "execution_count": null,
   "metadata": {
    "collapsed": true
   },
   "outputs": [],
   "source": [
    "# Making a DataFrame # 2\n",
    "# Using a dictionary with nested dictionaries...\n",
    "\n",
    "data = {'billy': {'Jan 10': 202, 'Jan 11': 220, 'Jan 12': 198},\n",
    "        'selina': {'Jan 09': 246, 'Jan 10': 235, 'Jan 11': 243}}"
   ]
  },
  {
   "cell_type": "code",
   "execution_count": null,
   "metadata": {
    "collapsed": true
   },
   "outputs": [],
   "source": [
    "df2 = DataFrame(data)\n",
    "# df2.T\n",
    "dft = df2.T"
   ]
  },
  {
   "cell_type": "code",
   "execution_count": null,
   "metadata": {
    "collapsed": true
   },
   "outputs": [],
   "source": [
    "dft.columns.name = 'date'\n",
    "dft.index.name = 'hero'"
   ]
  },
  {
   "cell_type": "code",
   "execution_count": null,
   "metadata": {
    "collapsed": true
   },
   "outputs": [],
   "source": []
  },
  {
   "cell_type": "code",
   "execution_count": null,
   "metadata": {
    "collapsed": true
   },
   "outputs": [],
   "source": [
    "# using indexes\n",
    "nums = Series(range(10, 16), index=['t', 'u', 'v', 'x', 'y', 'z'])\n",
    "i = nums.index\n",
    "# i\n",
    "# i[2:4]\n",
    "# i[::2]\n",
    "# i[::3]\n",
    "# i[4]"
   ]
  },
  {
   "cell_type": "code",
   "execution_count": null,
   "metadata": {
    "collapsed": true
   },
   "outputs": [],
   "source": [
    "logs = pd.read_csv('../../log_file_1000.csv', names=['name',\n",
    "                                                     'email',\n",
    "                                                     'fm_ip',\n",
    "                                                     'to_ip',\n",
    "                                                     'date_time',\n",
    "                                                     'lat',\n",
    "                                                     'long',\n",
    "                                                     'payload_size'])"
   ]
  },
  {
   "cell_type": "code",
   "execution_count": null,
   "metadata": {
    "collapsed": true
   },
   "outputs": [],
   "source": [
    "logs.fm_ip.unique()\n",
    "\n",
    "# logs.name.value_counts()\n",
    "# logs.name.head()"
   ]
  },
  {
   "cell_type": "code",
   "execution_count": null,
   "metadata": {
    "collapsed": true
   },
   "outputs": [],
   "source": [
    "g = logs.groupby(logs.fm_ip)\n",
    "\n",
    "g.ngroups\n",
    "\n",
    "# g.first()\n",
    "# g.get_group('106.152.115.161')\n",
    "# g.get_group('106.152.115.161').head(3)"
   ]
  },
  {
   "cell_type": "code",
   "execution_count": null,
   "metadata": {
    "collapsed": true
   },
   "outputs": [],
   "source": [
    "logs.date_time.head()"
   ]
  },
  {
   "cell_type": "code",
   "execution_count": null,
   "metadata": {
    "collapsed": true
   },
   "outputs": [],
   "source": [
    "def date_only(dt):\n",
    "    day = dt.split('T')[0]\n",
    "    return day"
   ]
  },
  {
   "cell_type": "code",
   "execution_count": null,
   "metadata": {
    "collapsed": true
   },
   "outputs": [],
   "source": [
    "logs['date'] = logs.date_time.apply(date_only)"
   ]
  },
  {
   "cell_type": "code",
   "execution_count": null,
   "metadata": {
    "collapsed": true
   },
   "outputs": [],
   "source": [
    "logs.columns\n",
    "\n",
    "# tf = logs.fm_ip == logs.to_ip\n",
    "# tf\n",
    "# tf.unique()\n",
    "# tf.value_counts()"
   ]
  },
  {
   "cell_type": "code",
   "execution_count": null,
   "metadata": {
    "collapsed": true
   },
   "outputs": [],
   "source": []
  },
  {
   "cell_type": "markdown",
   "metadata": {},
   "source": [
    "# replace_section_header\n",
    "---"
   ]
  },
  {
   "cell_type": "code",
   "execution_count": null,
   "metadata": {
    "collapsed": true
   },
   "outputs": [],
   "source": []
  },
  {
   "cell_type": "markdown",
   "metadata": {},
   "source": [
    "# replace_section_header\n",
    "---"
   ]
  },
  {
   "cell_type": "code",
   "execution_count": null,
   "metadata": {
    "collapsed": true
   },
   "outputs": [],
   "source": []
  },
  {
   "cell_type": "markdown",
   "metadata": {},
   "source": [
    "# replace_section_header\n",
    "---"
   ]
  },
  {
   "cell_type": "code",
   "execution_count": null,
   "metadata": {
    "collapsed": true
   },
   "outputs": [],
   "source": []
  },
  {
   "cell_type": "markdown",
   "metadata": {},
   "source": [
    "# Experience Points!\n",
    "---"
   ]
  },
  {
   "cell_type": "markdown",
   "metadata": {
    "collapsed": true,
    "slideshow": {
     "slide_type": "slide"
    }
   },
   "source": [
    "# delete_this_line: sample 01\n",
    "\n",
    "In your **text editor** create a simple script called `my_lesson_name_01.py` to do the following:\n",
    "\n",
    "Execute your script in the **IPython interpreter** using the command `run my_lesson_name_01.py`.\n",
    "\n",
    "Create a function called `me()` that prints out 3 things:\n",
    "\n",
    "* Your name\n",
    "* Your favorite food\n",
    "* Your favorite color\n",
    "\n",
    "Lastly, call the function, so that it executes when the script is run"
   ]
  },
  {
   "cell_type": "markdown",
   "metadata": {
    "collapsed": true,
    "slideshow": {
     "slide_type": "slide"
    }
   },
   "source": [
    "# delete_this_line: sample 02\n",
    "\n",
    "On the **IPython interpreter** do each of the following:\n",
    "\n",
    "Task | Sample Object(s)\n",
    ":---|:---\n",
    "Compare two items using `and` | 'Bruce', 0\n",
    "Compare two items using `or` | '', 42\n",
    "Use the `not` operator to make an object False | 'Selina' \n",
    "Compare two numbers using comparison operators | `>, <, >=, !=, ==`\n",
    "Create a more complex/nested comparison using parenthesis and Boolean operators| `('kara' _ 'clark') _ (0 _ 0.0)`"
   ]
  },
  {
   "cell_type": "markdown",
   "metadata": {},
   "source": [
    "# delete_this_line: sample 03\n",
    "\n",
    "In your **text editor** create a simple script called `my_lesson_name.py` to do the following:\n",
    "\n",
    "Execute your script in the **IPython interpreter** using the command `run my_lesson_name.py`.\n",
    "\n",
    "I suggest that as you add each feature to your script that you run it right away to test it incrementally. \n",
    "\n",
    "1. Create a variable with your first name as a string AND save it with the label: `myfname`.\n",
    "1. Create a variable with your age as an integer AND save it with the label: `myage`.\n",
    "\n",
    "1. Use `input()` to prompt for your first name AND save it with the label: `fname`.\n",
    "1. Create an `if` statement to test whether `fname` is equivalent to `myfname`. \n",
    "1. In the `if` code block: \n",
    "   1. Use `input()` prompt for your age AND save it with the label: `age` \n",
    "   1. NOTE: don't forget to convert the value to an integer.\n",
    "   1. Create a nested `if` statement to test whether `myage` and `age` are equivalent.\n",
    "1. If both tests pass, have the script print: `Your identity has been verified`"
   ]
  },
  {
   "cell_type": "markdown",
   "metadata": {},
   "source": [
    "When you complete this exercise, please put your green post-it on your monitor. \n",
    "\n",
    "If you want to continue on at your own-pace, please feel free to do so.\n",
    "\n",
    "<img src='../images/green_sticky.300px.png' width='200' style='float:left'>"
   ]
  },
  {
   "cell_type": "code",
   "execution_count": null,
   "metadata": {
    "collapsed": true
   },
   "outputs": [],
   "source": []
  },
  {
   "cell_type": "code",
   "execution_count": null,
   "metadata": {
    "collapsed": true
   },
   "outputs": [],
   "source": []
  }
 ],
 "metadata": {
  "kernelspec": {
   "display_name": "Python 3",
   "language": "python",
   "name": "python3"
  },
  "language_info": {
   "codemirror_mode": {
    "name": "ipython",
    "version": 3
   },
   "file_extension": ".py",
   "mimetype": "text/x-python",
   "name": "python",
   "nbconvert_exporter": "python",
   "pygments_lexer": "ipython3",
   "version": "3.6.1"
  }
 },
 "nbformat": 4,
 "nbformat_minor": 2
}
