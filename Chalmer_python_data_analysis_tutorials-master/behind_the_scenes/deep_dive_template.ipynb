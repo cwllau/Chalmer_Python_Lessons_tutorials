{
 "cells": [
  {
   "cell_type": "markdown",
   "metadata": {},
   "source": [
    "# Intro to Programming Class Exercises\n",
    "\n",
    "## <topic>\n",
    "---\n",
    "\n",
    "<img src='./images/dark_art_logo.600px.png' height='250' width='300' style=\"float:right\">\n",
    "\n",
    "DELETE: The template should be copied to the main folder, in which case the above reference URL that points at the images folder will work."
   ]
  },
  {
   "cell_type": "markdown",
   "metadata": {},
   "source": [
    "# Objectives\n",
    "---\n",
    "\n",
    "In this session, students should expect to:\n",
    "\n",
    "* \n",
    "* \n",
    "* \n",
    "\n",
    "DELETE: Short list of expected outcomes\n",
    "\n",
    "* DELETE: Use active verbs: Create, Change, Manipulate, Explore, etc.\n",
    "* DELETE: Keep outcomes measurable, where possible: Success means the thing was created OR the object was changed "
   ]
  },
  {
   "cell_type": "markdown",
   "metadata": {},
   "source": [
    "# Big picture\n",
    "---\n",
    "\n",
    "DELETE: High-level explanation of a given concept.\n",
    "\n",
    "DELETE: Hopefully rich in pics but limited in text."
   ]
  },
  {
   "cell_type": "markdown",
   "metadata": {},
   "source": [
    "# What to do\n",
    "---\n",
    "\n",
    "DELETE: Detailed steps to do\n",
    "\n",
    "DELETE: Things to practice\n",
    "\n",
    "DELETE: In-class exercises\n",
    "\n",
    "\n",
    "Whenever you reach the **green sticky-note** in the lesson material, please put your green post-it on your monitor.\n",
    "\n",
    "If you are feeling confident and want to continue on with self-study or want to play with what you have learned so far, **feel free to do so**, but put your sticky up so we can pace the class appropriately.\n",
    "\n",
    "<img src='./images/green_sticky.300px.png' height='250' width='300' style=\"float:left\">"
   ]
  },
  {
   "cell_type": "markdown",
   "metadata": {},
   "source": [
    "# Deep dive\n",
    "---\n",
    "\n",
    "DELETE: Where necessary, a deeper dive into content.\n",
    "\n",
    "DELETE: Realistically, this should prolly point back to the text, but if the text does not cover things in the depth that we want, we can dive deeply in this space.\n"
   ]
  },
  {
   "cell_type": "markdown",
   "metadata": {},
   "source": [
    "# Resources\n",
    "---\n",
    "\n",
    "* [Title](https://example.com) Description \n",
    "* []()\n",
    "* []()\n",
    "* []()\n",
    "\n",
    "DELETE: Links to references (textbook and non-textbook).\n",
    "\n"
   ]
  },
  {
   "cell_type": "markdown",
   "metadata": {},
   "source": [
    "# Navigation\n",
    "---\n",
    "\n",
    "| Previous | Up | Next |\n",
    "|:-----|:-----:|-----:|\n",
    "| <<< [](./xxxx.ipynb) | [Table of Contents](./README.md) | [](./xxxx.ipynb) >>> |"
   ]
  },
  {
   "cell_type": "code",
   "execution_count": null,
   "metadata": {
    "collapsed": true
   },
   "outputs": [],
   "source": []
  },
  {
   "cell_type": "code",
   "execution_count": null,
   "metadata": {
    "collapsed": true
   },
   "outputs": [],
   "source": []
  }
 ],
 "metadata": {
  "kernelspec": {
   "display_name": "Python 3",
   "language": "python",
   "name": "python3"
  },
  "language_info": {
   "codemirror_mode": {
    "name": "ipython",
    "version": 3
   },
   "file_extension": ".py",
   "mimetype": "text/x-python",
   "name": "python",
   "nbconvert_exporter": "python",
   "pygments_lexer": "ipython3",
   "version": "3.6.1"
  }
 },
 "nbformat": 4,
 "nbformat_minor": 2
}
