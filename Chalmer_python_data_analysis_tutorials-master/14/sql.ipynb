{
 "cells": [
  {
   "cell_type": "markdown",
   "metadata": {},
   "source": [
    "# Welcome to the Dark Art of Coding:\n",
    "## Introduction to Python\n",
    "SQL\n",
    "\n",
    "<img src='../images/dark_art_logo.600px.png' width='300' style=\"float:right\">"
   ]
  },
  {
   "cell_type": "code",
   "execution_count": 11,
   "metadata": {
    "collapsed": true
   },
   "outputs": [],
   "source": [
    "# First we want to import the SQL module and make a connection to a database\n",
    "\n",
    "import sqlite3\n",
    "conn = sqlite3.connect('first.db')"
   ]
  },
  {
   "cell_type": "code",
   "execution_count": 12,
   "metadata": {},
   "outputs": [
    {
     "name": "stdout",
     "output_type": "stream",
     "text": [
      "This object is a: <class 'sqlite3.Connection'>\n"
     ]
    }
   ],
   "source": [
    "# Let's see what data type we have:\n",
    "\n",
    "print('This object is a:', type(conn))"
   ]
  },
  {
   "cell_type": "markdown",
   "metadata": {},
   "source": [
    "Let's see what we can do with it:\n",
    "using tab completion\n",
    "\n",
    "```python\n",
    "conn.<tab complete>\n",
    "```"
   ]
  },
  {
   "cell_type": "code",
   "execution_count": null,
   "metadata": {},
   "outputs": [],
   "source": []
  },
  {
   "cell_type": "code",
   "execution_count": 13,
   "metadata": {
    "collapsed": true
   },
   "outputs": [],
   "source": [
    "# Our next major step is to create a cursor\n",
    "#     Cursors are a sort of \"pointer\" that lets \n",
    "#     us perform inquiries (as well as other things)\n",
    "\n",
    "cur = conn.cursor()"
   ]
  },
  {
   "cell_type": "code",
   "execution_count": 14,
   "metadata": {},
   "outputs": [
    {
     "name": "stdout",
     "output_type": "stream",
     "text": [
      "This object is a: <class 'sqlite3.Cursor'>\n"
     ]
    }
   ],
   "source": [
    "# As always, let's explore this new object\n",
    "\n",
    "print('This object is a:', type(cur))"
   ]
  },
  {
   "cell_type": "markdown",
   "metadata": {},
   "source": [
    "Let's see what we can do with it:\n",
    "using tab completion\n",
    "\n",
    "```python\n",
    "cur.<tab complete>\n",
    "```"
   ]
  },
  {
   "cell_type": "code",
   "execution_count": null,
   "metadata": {
    "collapsed": true
   },
   "outputs": [],
   "source": []
  },
  {
   "cell_type": "code",
   "execution_count": 15,
   "metadata": {},
   "outputs": [],
   "source": [
    "# NOTE: as with many other file types, once we \n",
    "#     finish interacting with our database we\n",
    "#     generally need to finalize our changes, ie. *.commit() them\n",
    "#     and *.close() our connection to the database.\n",
    "\n",
    "conn.commit()\n",
    "conn.close()"
   ]
  },
  {
   "cell_type": "code",
   "execution_count": 25,
   "metadata": {
    "collapsed": true
   },
   "outputs": [],
   "source": [
    "# In order to add data to a SQL database \n",
    "# we need to use special SQL commands\n",
    "\n",
    "conn = sqlite3.connect('data.db') \n",
    "\n",
    "# NOTE: Your connection does not need to be \n",
    "#     named conn. It is just a commonly used name"
   ]
  },
  {
   "cell_type": "markdown",
   "metadata": {},
   "source": [
    "* From now on we'll be using **two separate** syntaxes\n",
    "    * **Python syntax** for how we interface with the database and send SQL commands\n",
    "    * **SQL syntax** to actually insert, modify, and query data\n",
    "* These are two separate languages.\n",
    "* If you learn SQL commands you can generally speak to any SQL-based database"
   ]
  },
  {
   "cell_type": "code",
   "execution_count": 26,
   "metadata": {
    "collapsed": true
   },
   "outputs": [],
   "source": [
    "# First let's make a SQL command string to\n",
    "#     create our first table\n",
    "# This string tells SQL to create a table\n",
    "#     with specific columns and sets the data type\n",
    "#     that will be stored in the columns:\n",
    "#     text, integer, etc\n",
    "\n",
    "sql = '''CREATE TABLE customers (first name text,\n",
    "                                 last name text,\n",
    "                                 email text,\n",
    "                                 age integer)'''\n",
    "\n",
    "# NOTE: It is not necessary to make the string beforehand\n",
    "# however it can be helpful and often improves the \n",
    "# readability of your code to have the SQL syntax separated\n",
    "# from the Python syntax"
   ]
  },
  {
   "cell_type": "code",
   "execution_count": 27,
   "metadata": {
    "collapsed": true
   },
   "outputs": [],
   "source": [
    "# Now let's try and run this bit of SQL code\n",
    "\n",
    "try:\n",
    "    conn.execute(sql)\n",
    "except:\n",
    "    pass\n",
    "\n",
    "# NOTE: in this case, I am using a syntax\n",
    "#     called try/except so my script won't\n",
    "#     crash if the table already exists\n",
    "#     You may not need to do this..."
   ]
  },
  {
   "cell_type": "code",
   "execution_count": 28,
   "metadata": {},
   "outputs": [
    {
     "data": {
      "text/plain": [
       "<sqlite3.Cursor at 0x10cec95e0>"
      ]
     },
     "execution_count": 28,
     "metadata": {},
     "output_type": "execute_result"
    }
   ],
   "source": [
    "# This next bit of SQL syntax adds a row of data to \n",
    "#     our database\n",
    "#\n",
    "# This time we put the SQL syntax directly in the \n",
    "#     the Python function. This works, but may or\n",
    "#     may not impact the readability of your code\n",
    "# \n",
    "# The INSERT command identifies which table to insert\n",
    "#     the data into AND then the values that should be \n",
    "#     inserted. Here we use four question marks as \n",
    "#     template placeholders for the actual values\n",
    "#     which are provided in the adjacent tuple\n",
    "#     Using the question marks can improve readability\n",
    "#     and increase security. DO IT.\n",
    "\n",
    "conn.execute('INSERT INTO customers VALUES (?, ?, ?, ?)',\n",
    "             ('Bruce', 'Wayne', 'bwayne@jleague.org', 35))\n"
   ]
  },
  {
   "cell_type": "code",
   "execution_count": 29,
   "metadata": {},
   "outputs": [
    {
     "data": {
      "text/plain": [
       "<sqlite3.Cursor at 0x10cec96c0>"
      ]
     },
     "execution_count": 29,
     "metadata": {},
     "output_type": "execute_result"
    }
   ],
   "source": [
    "# This step of adding data to a table can be\n",
    "#     broken up into two parts to increase readability\n",
    "\n",
    "# Create the SQL statement to insert data \n",
    "#     into the table we made earlier \"customers\"\n",
    "ins2 = 'INSERT INTO customers VALUES (?, ?, ?, ?)'\n",
    "\n",
    "# Use Python to execute the SQL statement and give it some values to put in place of the question marks\n",
    "conn.execute(ins2, ('Selina', 'Kyle', 'catwoman@jleague.org', 38))"
   ]
  },
  {
   "cell_type": "markdown",
   "metadata": {},
   "source": [
    "# Retrieving data from a SQL database\n",
    "---"
   ]
  },
  {
   "cell_type": "markdown",
   "metadata": {},
   "source": [
    "To get data from a database we will use a cursor\n",
    "* The `.cursor()` method is associated with the connection we make it on\n",
    "* Let's take a look at the code in the following code cell\n",
    "    * The `SELECT` statement is straight SQL syntax\n",
    "    * It is intended to be relatively intuitive:\n",
    "        * `SELECT all records FROM the customers table`\n",
    "        * IN SQL, the `*` is a wildcard \n",
    "    * When the SQL is executed it returns a collection of all the records that meet any criteria\n",
    "    * The for loop in Python then lets you iterate over the collection of items"
   ]
  },
  {
   "cell_type": "code",
   "execution_count": 30,
   "metadata": {},
   "outputs": [
    {
     "name": "stdout",
     "output_type": "stream",
     "text": [
      "('Bruce', 'Wayne', 'bwayne@jleague.org', 35)\n",
      "('Selina', 'Kyle', 'catwoman@jleague.org', 38)\n"
     ]
    }
   ],
   "source": [
    "cur = conn.cursor()   # Create the cursor\n",
    "\n",
    "# Run the SQL code and use the for loop to\n",
    "#     iterate through the rows\n",
    "for row in cur.execute('SELECT * FROM customers'):        \n",
    "    print(row)\n",
    "\n",
    "conn.close()          # Close the connection once we're done"
   ]
  },
  {
   "cell_type": "code",
   "execution_count": 45,
   "metadata": {},
   "outputs": [],
   "source": [
    "# Building databases by hand is tedious. \n",
    "# Let's look at a way we can build a database from a csv file\n",
    "\n",
    "conn = sqlite3.connect('customers.db')"
   ]
  },
  {
   "cell_type": "code",
   "execution_count": 46,
   "metadata": {
    "collapsed": true
   },
   "outputs": [],
   "source": [
    "# Let's create the table in our SQL database now\n",
    "\n",
    "sql = '''CREATE TABLE customers (cust_id integer,\n",
    "                                 first_name text,\n",
    "                                 last_name text,\n",
    "                                 email text,\n",
    "                                 age integer)'''\n",
    "\n",
    "try:\n",
    "    conn.execute(sql)\n",
    "except:\n",
    "    pass"
   ]
  },
  {
   "cell_type": "code",
   "execution_count": 47,
   "metadata": {},
   "outputs": [],
   "source": [
    "fin = open('customers.csv', 'r')\n",
    "\n",
    "fin.readline()   # Read/eliminate header row\n",
    "\n",
    "# Now we take our remaining csv data and add \n",
    "#     it to our SQL database\n",
    "\n",
    "for line in fin:\n",
    "    cust_id, fname, lname, email, age = line.strip().split(',')\n",
    "    \n",
    "    # Each set of fields can be inserted into the table, \n",
    "    #     as we iterate through the for loop\n",
    "    conn.execute('INSERT INTO customers VALUES (?, ?, ?, ?, ?)',\n",
    "                 (cust_id, fname, lname, email, age))"
   ]
  },
  {
   "cell_type": "code",
   "execution_count": null,
   "metadata": {
    "collapsed": true
   },
   "outputs": [],
   "source": [
    "# We create the curson\n",
    "\n",
    "cur = conn.cursor()"
   ]
  },
  {
   "cell_type": "code",
   "execution_count": 49,
   "metadata": {},
   "outputs": [
    {
     "name": "stdout",
     "output_type": "stream",
     "text": [
      "('bwayne@jleague.org', 35)\n",
      "('skyle@jleague.org', 38)\n",
      "('bgordon@jleague.org', 33)\n",
      "('hjordan@jleague.org', 35)\n"
     ]
    }
   ],
   "source": [
    "# Sometimes we only need data from certain columns:\n",
    "\n",
    "for row in cur.execute('SELECT email, age FROM customers'):\n",
    "    print(row)"
   ]
  },
  {
   "cell_type": "code",
   "execution_count": 39,
   "metadata": {},
   "outputs": [
    {
     "name": "stdout",
     "output_type": "stream",
     "text": [
      "Email: bbanner@avengers.com \tAge: 35\n",
      "Email: IronManGr8@avengers.com \tAge: 38\n",
      "Email: nromanoff@avengers.com \tAge: 33\n",
      "Email: srogers@averngers.com \tAge: 35\n"
     ]
    }
   ],
   "source": [
    "# If we know we're taking multiple things from the table we can use some tuple unpacking in our for loop\n",
    "\n",
    "for email, age in cur.execute('SELECT email, age FROM customers'):\n",
    "    print('Email:', email, '\\tAge:',age)"
   ]
  },
  {
   "cell_type": "code",
   "execution_count": 16,
   "metadata": {},
   "outputs": [
    {
     "data": {
      "text/plain": [
       "<sqlite3.Cursor at 0x5455340>"
      ]
     },
     "execution_count": 16,
     "metadata": {},
     "output_type": "execute_result"
    }
   ],
   "source": [
    "# Let's put some more data into our table\n",
    "\n",
    "ins3 = 'INSERT INTO customers VALUES (?, ?, ?, ?, ?)'\n",
    "cur.execute(ins3, (5, 'Thor', 'N/A', 'thor@valhalla.org', 33))"
   ]
  },
  {
   "cell_type": "code",
   "execution_count": 17,
   "metadata": {},
   "outputs": [
    {
     "name": "stdout",
     "output_type": "stream",
     "text": [
      "[(3, 'Natasha', 'Romanoff', 'nromanoff@avengers.com', 33), (5, 'Thor', 'N/A', 'thor@valhalla.org', 33)]\n"
     ]
    }
   ],
   "source": [
    "# SQL syntax allows us to filter for certain rows as well as columns using the WHERE keyword\n",
    "# NOTE: SQL syntax and Python syntax are different. SQL uses a single '=' to check for equality where python uses two\n",
    "# They are different syntaxes and we need to be careful\n",
    "\n",
    "# Another way to get all of the things from a SELECT is to use the .fetchall() method\n",
    "# which will return a list of matching items\n",
    "\n",
    "cur.execute('SELECT * FROM customers WHERE age = 33')\n",
    "print(cur.fetchall())"
   ]
  },
  {
   "cell_type": "code",
   "execution_count": 18,
   "metadata": {},
   "outputs": [
    {
     "name": "stdout",
     "output_type": "stream",
     "text": [
      "('bbanner@avengers.com', 35)\n",
      "('IronManGr8@avengers.com', 38)\n",
      "('srogers@averngers.com', 35)\n"
     ]
    }
   ],
   "source": [
    "# We can do other equality tests as well not just the '='\n",
    "\n",
    "for row in cur.execute('SELECT email, age FROM customers WHERE age > 34'):\n",
    "    print(row)"
   ]
  },
  {
   "cell_type": "code",
   "execution_count": 19,
   "metadata": {},
   "outputs": [
    {
     "name": "stdout",
     "output_type": "stream",
     "text": [
      "(1, 'Bruce', 'Banner', 'bbanner@avengers.com', 35)\n",
      "(4, 'Steve', 'Rogers', 'srogers@averngers.com', 35)\n",
      "(2, 'Tony', 'Stark', 'IronManGr8@avengers.com', 38)\n"
     ]
    }
   ],
   "source": [
    "# We can have our data ordered in alphanumerical order when we get it by using the ORDER BY keyword\n",
    "\n",
    "for row in cur.execute('SELECT * FROM customers WHERE age > 34 ORDER BY age'):\n",
    "    print(row)"
   ]
  },
  {
   "cell_type": "code",
   "execution_count": 21,
   "metadata": {},
   "outputs": [
    {
     "name": "stdout",
     "output_type": "stream",
     "text": [
      "38 IronManGr8@avengers.com\n",
      "35 bbanner@avengers.com\n",
      "35 srogers@averngers.com\n"
     ]
    }
   ],
   "source": [
    "# Having it in reverse is just as easy by simply putting DESC after the order parameter\n",
    "\n",
    "for a, e in cur.execute('SELECT age, email FROM customers WHERE age > 34 ORDER BY age DESC'):\n",
    "    print(a, e)"
   ]
  },
  {
   "cell_type": "code",
   "execution_count": 27,
   "metadata": {},
   "outputs": [
    {
     "name": "stdout",
     "output_type": "stream",
     "text": [
      "[(2, 'Tony', 'Stark', 'tstark@avengers.com', 38)]\n"
     ]
    }
   ],
   "source": [
    "# If we want to update certain records we can do that using the UPDATE command and the SET command\n",
    "# We can use the LIKE keyword to find things that are similar and use the % sign as a wildcard\n",
    "\n",
    "cur.execute(\"UPDATE customers SET email='tstark@jleague.com' WHERE email LIKE 'IronManGr8%'\")\n",
    "\n",
    "print(cur.execute('SELECT * FROM customers WHERE age = 38').fetchall())"
   ]
  },
  {
   "cell_type": "code",
   "execution_count": 28,
   "metadata": {},
   "outputs": [
    {
     "name": "stdout",
     "output_type": "stream",
     "text": [
      "(35,)\n",
      "(38,)\n",
      "(33,)\n"
     ]
    }
   ],
   "source": [
    "# We can also uniquify our results using the DISTINCT keyword\n",
    "\n",
    "for row in cur.execute('SELECT DISTINCT age FROM customers'):\n",
    "    print(row)"
   ]
  },
  {
   "cell_type": "code",
   "execution_count": 29,
   "metadata": {},
   "outputs": [
    {
     "name": "stdout",
     "output_type": "stream",
     "text": [
      "(33, 2)\n",
      "(35, 2)\n",
      "(38, 1)\n"
     ]
    }
   ],
   "source": [
    "# TODO: descriptions for all of these\n",
    "\n",
    "for row in cur.execute('''SELECT age, COUNT(age) AS count_col\n",
    "                          FROM customers GROUP BY age'''):\n",
    "    print(row)"
   ]
  },
  {
   "cell_type": "code",
   "execution_count": 30,
   "metadata": {},
   "outputs": [
    {
     "name": "stdout",
     "output_type": "stream",
     "text": [
      "('Thor', 66)\n",
      "('Steve', 70)\n",
      "('Tony', 38)\n"
     ]
    }
   ],
   "source": [
    "for row in cur.execute('''SELECT first_name, SUM(age) AS total\n",
    "                          FROM customers GROUP BY age'''):\n",
    "    print(row)"
   ]
  },
  {
   "cell_type": "code",
   "execution_count": 31,
   "metadata": {},
   "outputs": [
    {
     "name": "stdout",
     "output_type": "stream",
     "text": [
      "('srogers@averngers.com', 2)\n",
      "('tstark@avengers.com', 1)\n"
     ]
    }
   ],
   "source": [
    "for row in cur.execute('''SELECT email, COUNT(age) AS count\n",
    "                          FROM customers\n",
    "                          GROUP BY age\n",
    "                          HAVING age > 34'''):\n",
    "    print(row)"
   ]
  },
  {
   "cell_type": "code",
   "execution_count": 32,
   "metadata": {},
   "outputs": [
    {
     "name": "stdout",
     "output_type": "stream",
     "text": [
      "(33, 2)\n",
      "(35, 2)\n"
     ]
    }
   ],
   "source": [
    "for row in cur.execute('''SELECT age, COUNT(age) AS count\n",
    "                          FROM customers\n",
    "                          GROUP BY age LIMIT 2'''):\n",
    "    print(row)"
   ]
  },
  {
   "cell_type": "code",
   "execution_count": 33,
   "metadata": {},
   "outputs": [
    {
     "name": "stdout",
     "output_type": "stream",
     "text": [
      "(1, 'Bruce', 'Banner', 'bbanner@avengers.com', 35)\n",
      "(2, 'Tony', 'Stark', 'tstark@avengers.com', 38)\n",
      "(4, 'Steve', 'Rogers', 'srogers@averngers.com', 35)\n",
      "(5, 'Thor', 'N/A', 'thor@valhalla.org', 33)\n"
     ]
    }
   ],
   "source": [
    "cur.execute(\"DELETE FROM customers WHERE first_name='Natasha'\")\n",
    "\n",
    "for row in cur.execute('SELECT * FROM customers'):\n",
    "    print(row)"
   ]
  },
  {
   "cell_type": "code",
   "execution_count": 34,
   "metadata": {
    "collapsed": true
   },
   "outputs": [],
   "source": [
    "conn.close()"
   ]
  },
  {
   "cell_type": "code",
   "execution_count": null,
   "metadata": {
    "collapsed": true
   },
   "outputs": [],
   "source": []
  }
 ],
 "metadata": {
  "celltoolbar": "Slideshow",
  "kernelspec": {
   "display_name": "Python 3",
   "language": "python",
   "name": "python3"
  },
  "language_info": {
   "codemirror_mode": {
    "name": "ipython",
    "version": 3
   },
   "file_extension": ".py",
   "mimetype": "text/x-python",
   "name": "python",
   "nbconvert_exporter": "python",
   "pygments_lexer": "ipython3",
   "version": "3.6.1"
  }
 },
 "nbformat": 4,
 "nbformat_minor": 2
}
